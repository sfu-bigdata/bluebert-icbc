{
 "cells": [
  {
   "cell_type": "code",
   "execution_count": 1,
   "metadata": {},
   "outputs": [],
   "source": [
    "import os\n",
    "os.chdir(\"C:\\\\Users\\\\Karan\\\\Desktop\\\\spring\\\\RA\\\\\")"
   ]
  },
  {
   "cell_type": "code",
   "execution_count": 2,
   "metadata": {},
   "outputs": [],
   "source": [
    "import pandas as pd\n",
    "import re"
   ]
  },
  {
   "cell_type": "code",
   "execution_count": 3,
   "metadata": {},
   "outputs": [],
   "source": [
    "file = pd.read_csv('NOTEEVENTS_small.csv')"
   ]
  },
  {
   "cell_type": "code",
   "execution_count": 4,
   "metadata": {},
   "outputs": [
    {
     "data": {
      "text/html": [
       "<div>\n",
       "<style scoped>\n",
       "    .dataframe tbody tr th:only-of-type {\n",
       "        vertical-align: middle;\n",
       "    }\n",
       "\n",
       "    .dataframe tbody tr th {\n",
       "        vertical-align: top;\n",
       "    }\n",
       "\n",
       "    .dataframe thead th {\n",
       "        text-align: right;\n",
       "    }\n",
       "</style>\n",
       "<table border=\"1\" class=\"dataframe\">\n",
       "  <thead>\n",
       "    <tr style=\"text-align: right;\">\n",
       "      <th></th>\n",
       "      <th>Unnamed: 0</th>\n",
       "      <th>ROW_ID</th>\n",
       "      <th>SUBJECT_ID</th>\n",
       "      <th>HADM_ID</th>\n",
       "      <th>CHARTDATE</th>\n",
       "      <th>CHARTTIME</th>\n",
       "      <th>STORETIME</th>\n",
       "      <th>CATEGORY</th>\n",
       "      <th>DESCRIPTION</th>\n",
       "      <th>CGID</th>\n",
       "      <th>ISERROR</th>\n",
       "      <th>TEXT</th>\n",
       "    </tr>\n",
       "  </thead>\n",
       "  <tbody>\n",
       "    <tr>\n",
       "      <td>0</td>\n",
       "      <td>0</td>\n",
       "      <td>174</td>\n",
       "      <td>22532</td>\n",
       "      <td>167853.0</td>\n",
       "      <td>2151-08-04</td>\n",
       "      <td>NaN</td>\n",
       "      <td>NaN</td>\n",
       "      <td>Discharge summary</td>\n",
       "      <td>Report</td>\n",
       "      <td>NaN</td>\n",
       "      <td>NaN</td>\n",
       "      <td>Admission Date:  [**2151-7-16**]       Dischar...</td>\n",
       "    </tr>\n",
       "    <tr>\n",
       "      <td>1</td>\n",
       "      <td>1</td>\n",
       "      <td>175</td>\n",
       "      <td>13702</td>\n",
       "      <td>107527.0</td>\n",
       "      <td>2118-06-14</td>\n",
       "      <td>NaN</td>\n",
       "      <td>NaN</td>\n",
       "      <td>Discharge summary</td>\n",
       "      <td>Report</td>\n",
       "      <td>NaN</td>\n",
       "      <td>NaN</td>\n",
       "      <td>Admission Date:  [**2118-6-2**]       Discharg...</td>\n",
       "    </tr>\n",
       "    <tr>\n",
       "      <td>2</td>\n",
       "      <td>2</td>\n",
       "      <td>176</td>\n",
       "      <td>13702</td>\n",
       "      <td>167118.0</td>\n",
       "      <td>2119-05-25</td>\n",
       "      <td>NaN</td>\n",
       "      <td>NaN</td>\n",
       "      <td>Discharge summary</td>\n",
       "      <td>Report</td>\n",
       "      <td>NaN</td>\n",
       "      <td>NaN</td>\n",
       "      <td>Admission Date:  [**2119-5-4**]              D...</td>\n",
       "    </tr>\n",
       "    <tr>\n",
       "      <td>3</td>\n",
       "      <td>3</td>\n",
       "      <td>177</td>\n",
       "      <td>13702</td>\n",
       "      <td>196489.0</td>\n",
       "      <td>2124-08-18</td>\n",
       "      <td>NaN</td>\n",
       "      <td>NaN</td>\n",
       "      <td>Discharge summary</td>\n",
       "      <td>Report</td>\n",
       "      <td>NaN</td>\n",
       "      <td>NaN</td>\n",
       "      <td>Admission Date:  [**2124-7-21**]              ...</td>\n",
       "    </tr>\n",
       "    <tr>\n",
       "      <td>4</td>\n",
       "      <td>4</td>\n",
       "      <td>178</td>\n",
       "      <td>26880</td>\n",
       "      <td>135453.0</td>\n",
       "      <td>2162-03-25</td>\n",
       "      <td>NaN</td>\n",
       "      <td>NaN</td>\n",
       "      <td>Discharge summary</td>\n",
       "      <td>Report</td>\n",
       "      <td>NaN</td>\n",
       "      <td>NaN</td>\n",
       "      <td>Admission Date:  [**2162-3-3**]              D...</td>\n",
       "    </tr>\n",
       "  </tbody>\n",
       "</table>\n",
       "</div>"
      ],
      "text/plain": [
       "   Unnamed: 0  ROW_ID  SUBJECT_ID   HADM_ID   CHARTDATE  CHARTTIME  STORETIME  \\\n",
       "0           0     174       22532  167853.0  2151-08-04        NaN        NaN   \n",
       "1           1     175       13702  107527.0  2118-06-14        NaN        NaN   \n",
       "2           2     176       13702  167118.0  2119-05-25        NaN        NaN   \n",
       "3           3     177       13702  196489.0  2124-08-18        NaN        NaN   \n",
       "4           4     178       26880  135453.0  2162-03-25        NaN        NaN   \n",
       "\n",
       "            CATEGORY DESCRIPTION  CGID  ISERROR  \\\n",
       "0  Discharge summary      Report   NaN      NaN   \n",
       "1  Discharge summary      Report   NaN      NaN   \n",
       "2  Discharge summary      Report   NaN      NaN   \n",
       "3  Discharge summary      Report   NaN      NaN   \n",
       "4  Discharge summary      Report   NaN      NaN   \n",
       "\n",
       "                                                TEXT  \n",
       "0  Admission Date:  [**2151-7-16**]       Dischar...  \n",
       "1  Admission Date:  [**2118-6-2**]       Discharg...  \n",
       "2  Admission Date:  [**2119-5-4**]              D...  \n",
       "3  Admission Date:  [**2124-7-21**]              ...  \n",
       "4  Admission Date:  [**2162-3-3**]              D...  "
      ]
     },
     "execution_count": 4,
     "metadata": {},
     "output_type": "execute_result"
    }
   ],
   "source": [
    "file.head(5)"
   ]
  },
  {
   "cell_type": "code",
   "execution_count": 5,
   "metadata": {},
   "outputs": [],
   "source": [
    "def clean_lines(text):\n",
    "    text = text.replace('\\r', '').replace('\\n', '')\n",
    "    #text = re.sub(\"[^-9A-Za-z ]\", \"\" , text)\n",
    "    return text\n",
    "    "
   ]
  },
  {
   "cell_type": "code",
   "execution_count": 6,
   "metadata": {},
   "outputs": [],
   "source": [
    "file['clean_lines'] = file.apply(lambda x: clean_lines(x['TEXT']), axis = 1)"
   ]
  },
  {
   "cell_type": "code",
   "execution_count": 7,
   "metadata": {},
   "outputs": [],
   "source": [
    "def search_phrase(text):\n",
    "\t#print(\"first phrase:\", first_phrase)\n",
    "\t#print(\"second phrase:\", second_phrase)\n",
    "\t#text = text.lower()\n",
    "\tfirst_phrase= \"history of present illness\"\n",
    "\tsecond_phrase = \"past medical history\"\n",
    "\trestring = r\"%s.*%s\" %(first_phrase,second_phrase)\n",
    "\t#print(\"restring:\", restring)\n",
    "\toutput = re.search(restring, text, re.IGNORECASE)\n",
    "\tif output is None:\n",
    "\t\treturn \"no text found\"        \n",
    "\telse:\n",
    "\t\ttxt = output.group(0).rsplit(' ', 3)[0]\n",
    "\t\treturn txt"
   ]
  },
  {
   "cell_type": "code",
   "execution_count": 8,
   "metadata": {},
   "outputs": [],
   "source": [
    "file['searched'] = file.apply(lambda x: search_phrase(x['clean_lines']), axis = 1)"
   ]
  },
  {
   "cell_type": "code",
   "execution_count": 9,
   "metadata": {},
   "outputs": [
    {
     "data": {
      "text/plain": [
       "'HISTORY OF PRESENT ILLNESS:  This is an 81-year-old femalewith a history of emphysema (not on home O2), who presentswith three days of shortness of breath thought by her primarycare doctor to be a COPD flare.  Two days prior to admission,she was started on a prednisone taper and one day prior toadmission she required oxygen at home in order to maintainoxygen saturation greater than 90%.  She has also been onlevofloxacin and nebulizers, and was not getting better, andpresented to the [**Hospital1 18**] Emergency Room.In the [**Hospital3 **] Emergency Room, her oxygen saturation was100% on CPAP.  She was not able to be weaned off of thisdespite nebulizer treatment and Solu-Medrol 125 mg IV x2.Review of systems is negative for the following:  Fevers,chills, nausea, vomiting, night sweats, change in weight,gastrointestinal complaints, neurologic changes, rashes,palpitations, orthopnea.  Is positive for the following:Chest pressure occasionally with shortness of breath withexertion, some shortness of breath that is positionallyrelated, but is improved with nebulizer'"
      ]
     },
     "execution_count": 9,
     "metadata": {},
     "output_type": "execute_result"
    }
   ],
   "source": [
    "file['searched'][1]"
   ]
  },
  {
   "cell_type": "code",
   "execution_count": 10,
   "metadata": {},
   "outputs": [],
   "source": [
    "def cleaned_text(text):\n",
    "    #text = re.sub(\"[^-9A-Za-z ]\", \"\" , text)\n",
    "    #result = re.sub('[\\W_]+', '', ini_string)\n",
    "    result = re.sub(\"[\\W_]+\", lambda ele: \" \" + ele[0] + \" \", text)\n",
    "    text = result.split()\n",
    "    return text\n",
    "    "
   ]
  },
  {
   "cell_type": "code",
   "execution_count": 11,
   "metadata": {},
   "outputs": [
    {
     "data": {
      "text/plain": [
       "Index(['Unnamed: 0', 'ROW_ID', 'SUBJECT_ID', 'HADM_ID', 'CHARTDATE',\n",
       "       'CHARTTIME', 'STORETIME', 'CATEGORY', 'DESCRIPTION', 'CGID', 'ISERROR',\n",
       "       'TEXT', 'clean_lines', 'searched'],\n",
       "      dtype='object')"
      ]
     },
     "execution_count": 11,
     "metadata": {},
     "output_type": "execute_result"
    }
   ],
   "source": [
    "file.columns"
   ]
  },
  {
   "cell_type": "code",
   "execution_count": 12,
   "metadata": {},
   "outputs": [],
   "source": [
    "file['cleaned_text_list'] = file.apply(lambda x : cleaned_text(x['searched']), axis = 1)"
   ]
  },
  {
   "cell_type": "code",
   "execution_count": 13,
   "metadata": {},
   "outputs": [
    {
     "data": {
      "text/plain": [
       "['HISTORY',\n",
       " 'OF',\n",
       " 'PRESENT',\n",
       " 'ILLNESS',\n",
       " ':',\n",
       " 'This',\n",
       " 'is',\n",
       " 'an',\n",
       " '81',\n",
       " '-',\n",
       " 'year',\n",
       " '-',\n",
       " 'old',\n",
       " 'femalewith',\n",
       " 'a',\n",
       " 'history',\n",
       " 'of',\n",
       " 'emphysema',\n",
       " '(',\n",
       " 'not',\n",
       " 'on',\n",
       " 'home',\n",
       " 'O2',\n",
       " '),',\n",
       " 'who',\n",
       " 'presentswith',\n",
       " 'three',\n",
       " 'days',\n",
       " 'of',\n",
       " 'shortness',\n",
       " 'of',\n",
       " 'breath',\n",
       " 'thought',\n",
       " 'by',\n",
       " 'her',\n",
       " 'primarycare',\n",
       " 'doctor',\n",
       " 'to',\n",
       " 'be',\n",
       " 'a',\n",
       " 'COPD',\n",
       " 'flare',\n",
       " '.',\n",
       " 'Two',\n",
       " 'days',\n",
       " 'prior',\n",
       " 'to',\n",
       " 'admission',\n",
       " ',',\n",
       " 'she',\n",
       " 'was',\n",
       " 'started',\n",
       " 'on',\n",
       " 'a',\n",
       " 'prednisone',\n",
       " 'taper',\n",
       " 'and',\n",
       " 'one',\n",
       " 'day',\n",
       " 'prior',\n",
       " 'toadmission',\n",
       " 'she',\n",
       " 'required',\n",
       " 'oxygen',\n",
       " 'at',\n",
       " 'home',\n",
       " 'in',\n",
       " 'order',\n",
       " 'to',\n",
       " 'maintainoxygen',\n",
       " 'saturation',\n",
       " 'greater',\n",
       " 'than',\n",
       " '90',\n",
       " '%.',\n",
       " 'She',\n",
       " 'has',\n",
       " 'also',\n",
       " 'been',\n",
       " 'onlevofloxacin',\n",
       " 'and',\n",
       " 'nebulizers',\n",
       " ',',\n",
       " 'and',\n",
       " 'was',\n",
       " 'not',\n",
       " 'getting',\n",
       " 'better',\n",
       " ',',\n",
       " 'andpresented',\n",
       " 'to',\n",
       " 'the',\n",
       " '[**',\n",
       " 'Hospital1',\n",
       " '18',\n",
       " '**]',\n",
       " 'Emergency',\n",
       " 'Room',\n",
       " '.',\n",
       " 'In',\n",
       " 'the',\n",
       " '[**',\n",
       " 'Hospital3',\n",
       " '**]',\n",
       " 'Emergency',\n",
       " 'Room',\n",
       " ',',\n",
       " 'her',\n",
       " 'oxygen',\n",
       " 'saturation',\n",
       " 'was100',\n",
       " '%',\n",
       " 'on',\n",
       " 'CPAP',\n",
       " '.',\n",
       " 'She',\n",
       " 'was',\n",
       " 'not',\n",
       " 'able',\n",
       " 'to',\n",
       " 'be',\n",
       " 'weaned',\n",
       " 'off',\n",
       " 'of',\n",
       " 'thisdespite',\n",
       " 'nebulizer',\n",
       " 'treatment',\n",
       " 'and',\n",
       " 'Solu',\n",
       " '-',\n",
       " 'Medrol',\n",
       " '125',\n",
       " 'mg',\n",
       " 'IV',\n",
       " 'x2',\n",
       " '.',\n",
       " 'Review',\n",
       " 'of',\n",
       " 'systems',\n",
       " 'is',\n",
       " 'negative',\n",
       " 'for',\n",
       " 'the',\n",
       " 'following',\n",
       " ':',\n",
       " 'Fevers',\n",
       " ',',\n",
       " 'chills',\n",
       " ',',\n",
       " 'nausea',\n",
       " ',',\n",
       " 'vomiting',\n",
       " ',',\n",
       " 'night',\n",
       " 'sweats',\n",
       " ',',\n",
       " 'change',\n",
       " 'in',\n",
       " 'weight',\n",
       " ',',\n",
       " 'gastrointestinal',\n",
       " 'complaints',\n",
       " ',',\n",
       " 'neurologic',\n",
       " 'changes',\n",
       " ',',\n",
       " 'rashes',\n",
       " ',',\n",
       " 'palpitations',\n",
       " ',',\n",
       " 'orthopnea',\n",
       " '.',\n",
       " 'Is',\n",
       " 'positive',\n",
       " 'for',\n",
       " 'the',\n",
       " 'following',\n",
       " ':',\n",
       " 'Chest',\n",
       " 'pressure',\n",
       " 'occasionally',\n",
       " 'with',\n",
       " 'shortness',\n",
       " 'of',\n",
       " 'breath',\n",
       " 'withexertion',\n",
       " ',',\n",
       " 'some',\n",
       " 'shortness',\n",
       " 'of',\n",
       " 'breath',\n",
       " 'that',\n",
       " 'is',\n",
       " 'positionallyrelated',\n",
       " ',',\n",
       " 'but',\n",
       " 'is',\n",
       " 'improved',\n",
       " 'with',\n",
       " 'nebulizer']"
      ]
     },
     "execution_count": 13,
     "metadata": {},
     "output_type": "execute_result"
    }
   ],
   "source": [
    "file['cleaned_text_list'][1]"
   ]
  },
  {
   "cell_type": "code",
   "execution_count": 14,
   "metadata": {},
   "outputs": [],
   "source": [
    "import csv"
   ]
  },
  {
   "cell_type": "code",
   "execution_count": 15,
   "metadata": {},
   "outputs": [],
   "source": [
    "file['index1'] = file.index"
   ]
  },
  {
   "cell_type": "code",
   "execution_count": 16,
   "metadata": {},
   "outputs": [],
   "source": [
    "\n",
    "def csv_writer(lst, index): \n",
    "    with open(\"test_mimic\"+str(index)+\".tsv\", 'wt', newline='') as out_file:\n",
    "        for i in range(0, len(lst)):\n",
    "            tsv_writer = csv.writer(out_file, delimiter='\\t')\n",
    "            tsv_writer.writerow([lst[i], 'O'])\n",
    "    \n",
    "    \n",
    "        \n",
    "\n",
    "        "
   ]
  },
  {
   "cell_type": "code",
   "execution_count": 17,
   "metadata": {},
   "outputs": [
    {
     "data": {
      "text/plain": [
       "0      None\n",
       "1      None\n",
       "2      None\n",
       "3      None\n",
       "4      None\n",
       "       ... \n",
       "995    None\n",
       "996    None\n",
       "997    None\n",
       "998    None\n",
       "999    None\n",
       "Length: 1000, dtype: object"
      ]
     },
     "execution_count": 17,
     "metadata": {},
     "output_type": "execute_result"
    }
   ],
   "source": [
    "file.apply(lambda x : csv_writer(x['cleaned_text_list'], x['index1']), axis = 1)"
   ]
  },
  {
   "cell_type": "code",
   "execution_count": 18,
   "metadata": {},
   "outputs": [],
   "source": [
    "#note after the creation of files you have to append two newlines in each file to make the model work."
   ]
  }
 ],
 "metadata": {
  "kernelspec": {
   "display_name": "Python 3",
   "language": "python",
   "name": "python3"
  },
  "language_info": {
   "codemirror_mode": {
    "name": "ipython",
    "version": 3
   },
   "file_extension": ".py",
   "mimetype": "text/x-python",
   "name": "python",
   "nbconvert_exporter": "python",
   "pygments_lexer": "ipython3",
   "version": "3.7.3"
  }
 },
 "nbformat": 4,
 "nbformat_minor": 2
}

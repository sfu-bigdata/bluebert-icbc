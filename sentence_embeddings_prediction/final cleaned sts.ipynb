{
 "cells": [
  {
   "cell_type": "code",
   "execution_count": 2,
   "metadata": {},
   "outputs": [],
   "source": [
    "import os\n",
    "os.chdir(\"C:\\\\Users\\\\Karan\\\\Desktop\\\\spring\\\\RA\\\\\")"
   ]
  },
  {
   "cell_type": "code",
   "execution_count": 26,
   "metadata": {},
   "outputs": [],
   "source": [
    "#cosine similarity using sklearn\n",
    "from sklearn.metrics.pairwise import cosine_similarity"
   ]
  },
  {
   "cell_type": "code",
   "execution_count": 27,
   "metadata": {},
   "outputs": [
    {
     "data": {
      "text/plain": [
       "array([[0.89504236]])"
      ]
     },
     "execution_count": 27,
     "metadata": {},
     "output_type": "execute_result"
    }
   ],
   "source": [
    "cosine_similarity(\n",
    "    [values_sentence_1],\n",
    "    [values_sentence_2]\n",
    ")"
   ]
  },
  {
   "cell_type": "code",
   "execution_count": 76,
   "metadata": {},
   "outputs": [],
   "source": [
    "os.chdir(\"C:\\\\Users\\\\Karan\\\\Desktop\\\\spring\\\\RA\\\\sentence similarity\\\\\")"
   ]
  },
  {
   "cell_type": "code",
   "execution_count": 77,
   "metadata": {},
   "outputs": [],
   "source": [
    "def load_data(file1, file2):\n",
    "    with open(file1) as f:\n",
    "        data1 = json.load(f)\n",
    "    with open(file2) as f:\n",
    "        data2 = json.load(f) \n",
    "    #getting the last token embedding\n",
    "# we subtract 2 from total tokens length because last token will be [SEP] and second last token will be [.]\n",
    "    last_word_token_sentence1 = len(data1['features'])-1    \n",
    "    last_word_token_sentence2 = len(data2['features'])-1\n",
    "    return data1, last_word_token_sentence1, data2, last_word_token_sentence2\n",
    "\n",
    "    "
   ]
  },
  {
   "cell_type": "code",
   "execution_count": 78,
   "metadata": {},
   "outputs": [],
   "source": [
    "def calculate_cosine_similarity_last_token(data1, last_token1, data2, last_token2):\n",
    "    values_sentence_1 = data1['features'][last_word_token_sentence1]['layers'][0]['values']\n",
    "    values_sentence_2 = data2['features'][last_word_token_sentence2]['layers'][0]['values']\n",
    "    cosine_scores = util.pytorch_cos_sim(values_sentence_1, values_sentence_2)\n",
    "    return cosine_scores    \n",
    "    "
   ]
  },
  {
   "cell_type": "code",
   "execution_count": 79,
   "metadata": {},
   "outputs": [],
   "source": [
    "def calculate_cosine_similarity_avg(data1, last_token1, data2, last_token2):\n",
    "    #taking the mean of the vectors approach\n",
    "    val_mean1 = []\n",
    "    for i in range(0, last_token1+1):\n",
    "        val_mean1.append(data1['features'][i]['layers'][0]['values'])\n",
    "    val_mean2 = []\n",
    "    for i in range(0, last_token2+1):\n",
    "        val_mean2.append(data2['features'][i]['layers'][0]['values'])\n",
    "    d1 = np.mean(val_mean1, axis = 0)\n",
    "    d2 = np.mean(val_mean2, axis = 0)\n",
    "    cosine_scores_mean = util.pytorch_cos_sim(d1, d2)\n",
    "    return cosine_scores_mean"
   ]
  },
  {
   "cell_type": "code",
   "execution_count": 89,
   "metadata": {},
   "outputs": [],
   "source": [
    "scores_last = []\n",
    "scores_avg = []"
   ]
  },
  {
   "cell_type": "code",
   "execution_count": 164,
   "metadata": {},
   "outputs": [],
   "source": [
    "data1, last_word_token_sentence1, data2, last_word_token_sentence2 = load_data('output_20.1.jsonl', 'output_20.2.jsonl')"
   ]
  },
  {
   "cell_type": "code",
   "execution_count": 165,
   "metadata": {},
   "outputs": [],
   "source": [
    "score_last_token = calculate_cosine_similarity_last_token(data1, last_word_token_sentence1, data2, last_word_token_sentence2)\n",
    "score_avg = calculate_cosine_similarity_avg(data1, last_word_token_sentence1, data2, last_word_token_sentence2)"
   ]
  },
  {
   "cell_type": "code",
   "execution_count": 166,
   "metadata": {},
   "outputs": [],
   "source": [
    "scores_last.append(score_last_token)\n",
    "scores_avg.append(score_avg)"
   ]
  },
  {
   "cell_type": "code",
   "execution_count": 167,
   "metadata": {},
   "outputs": [
    {
     "data": {
      "text/plain": [
       "([tensor([[0.9287]]),\n",
       "  tensor([[0.8310]]),\n",
       "  tensor([[0.7770]]),\n",
       "  tensor([[0.7344]]),\n",
       "  tensor([[0.9011]]),\n",
       "  tensor([[0.8944]]),\n",
       "  tensor([[0.7356]]),\n",
       "  tensor([[0.9002]]),\n",
       "  tensor([[0.8671]]),\n",
       "  tensor([[0.8351]]),\n",
       "  tensor([[0.7151]]),\n",
       "  tensor([[0.8330]]),\n",
       "  tensor([[0.8152]]),\n",
       "  tensor([[0.8309]]),\n",
       "  tensor([[0.8189]]),\n",
       "  tensor([[0.7810]]),\n",
       "  tensor([[0.8017]]),\n",
       "  tensor([[0.9268]]),\n",
       "  tensor([[0.7750]])],\n",
       " [tensor([[0.9553]], dtype=torch.float64),\n",
       "  tensor([[0.8948]], dtype=torch.float64),\n",
       "  tensor([[0.8515]], dtype=torch.float64),\n",
       "  tensor([[0.8418]], dtype=torch.float64),\n",
       "  tensor([[0.9229]], dtype=torch.float64),\n",
       "  tensor([[0.9166]], dtype=torch.float64),\n",
       "  tensor([[0.8425]], dtype=torch.float64),\n",
       "  tensor([[0.9563]], dtype=torch.float64),\n",
       "  tensor([[0.9321]], dtype=torch.float64),\n",
       "  tensor([[0.8726]], dtype=torch.float64),\n",
       "  tensor([[0.7982]], dtype=torch.float64),\n",
       "  tensor([[0.8797]], dtype=torch.float64),\n",
       "  tensor([[0.8606]], dtype=torch.float64),\n",
       "  tensor([[0.8930]], dtype=torch.float64),\n",
       "  tensor([[0.8847]], dtype=torch.float64),\n",
       "  tensor([[0.8668]], dtype=torch.float64),\n",
       "  tensor([[0.8333]], dtype=torch.float64),\n",
       "  tensor([[0.9507]], dtype=torch.float64),\n",
       "  tensor([[0.8769]], dtype=torch.float64)])"
      ]
     },
     "execution_count": 167,
     "metadata": {},
     "output_type": "execute_result"
    }
   ],
   "source": [
    "scores_last, scores_avg"
   ]
  },
  {
   "cell_type": "code",
   "execution_count": 184,
   "metadata": {},
   "outputs": [],
   "source": [
    "true_results = [3.0,3.2,0.2,1.2,3.0, 2.0,1.8,3.4,3.4 ,0.2,0.0,2.8,1.6,0.2,1.6,0.2,3.6,1.8,2.0]"
   ]
  },
  {
   "cell_type": "code",
   "execution_count": null,
   "metadata": {},
   "outputs": [],
   "source": [
    "from sklearn import preprocessing"
   ]
  },
  {
   "cell_type": "code",
   "execution_count": 190,
   "metadata": {},
   "outputs": [
    {
     "data": {
      "text/plain": [
       "array([[0.83333333],\n",
       "       [0.88888889],\n",
       "       [0.05555556],\n",
       "       [0.33333333],\n",
       "       [0.83333333],\n",
       "       [0.55555556],\n",
       "       [0.5       ],\n",
       "       [0.94444444],\n",
       "       [0.94444444],\n",
       "       [0.05555556],\n",
       "       [0.        ],\n",
       "       [0.77777778],\n",
       "       [0.44444444],\n",
       "       [0.05555556],\n",
       "       [0.44444444],\n",
       "       [0.05555556],\n",
       "       [1.        ],\n",
       "       [0.5       ],\n",
       "       [0.55555556]])"
      ]
     },
     "execution_count": 190,
     "metadata": {},
     "output_type": "execute_result"
    }
   ],
   "source": [
    "true_results = np.array(true_results).reshape(-1,1)\n",
    "min_max_scaler = preprocessing.MinMaxScaler()\n",
    "true_results_normalized = min_max_scaler.fit_transform(true_results)\n",
    "true_results_normalized"
   ]
  },
  {
   "cell_type": "code",
   "execution_count": 209,
   "metadata": {},
   "outputs": [],
   "source": [
    "true_results_normalized_new = true_results_normalized_new.reshape(true_results_normalized_new.shape[0]*true_results_normalized_new.shape[1])"
   ]
  },
  {
   "cell_type": "code",
   "execution_count": 210,
   "metadata": {},
   "outputs": [],
   "source": [
    "arr = np.array([scores_last, true_results_normalized_new]).T"
   ]
  },
  {
   "cell_type": "code",
   "execution_count": 199,
   "metadata": {},
   "outputs": [],
   "source": [
    "\n",
    "true_results_normalized_new = true_results_normalized.reshape(true_results_normalized.shape[1], (true_results_normalized.shape[0]*true_results_normalized.shape[2]))"
   ]
  },
  {
   "cell_type": "code",
   "execution_count": 211,
   "metadata": {},
   "outputs": [],
   "source": [
    "import numpy as np\n",
    "import pandas as pd\n",
    "arr = np.array([scores_last, scores_avg, true_results_normalized_new]).T\n",
    "df = pd.DataFrame(arr, columns=[\"result_last\", \"result_avg\", 'true_results'])\n",
    "df2 = df.sort_values(by=[\"true_results\"]).reset_index(drop = True)"
   ]
  },
  {
   "cell_type": "code",
   "execution_count": 212,
   "metadata": {},
   "outputs": [
    {
     "data": {
      "text/plain": [
       "<matplotlib.axes._subplots.AxesSubplot at 0x26168cb90b8>"
      ]
     },
     "execution_count": 212,
     "metadata": {},
     "output_type": "execute_result"
    },
    {
     "data": {
      "image/png": "[encoded data removed]",
      "text/plain": [
       "<Figure size 432x288 with 1 Axes>"
      ]
     },
     "metadata": {
      "needs_background": "light"
     },
     "output_type": "display_data"
    }
   ],
   "source": [
    "%matplotlib inline\n",
    "df2[['true_results', 'result_last']].plot()"
   ]
  },
  {
   "cell_type": "code",
   "execution_count": 213,
   "metadata": {},
   "outputs": [
    {
     "data": {
      "text/plain": [
       "<matplotlib.axes._subplots.AxesSubplot at 0x2616d9bc470>"
      ]
     },
     "execution_count": 213,
     "metadata": {},
     "output_type": "execute_result"
    },
    {
     "data": {
      "image/png": "[encoded data removed]",
      "text/plain": [
       "<Figure size 432x288 with 1 Axes>"
      ]
     },
     "metadata": {
      "needs_background": "light"
     },
     "output_type": "display_data"
    }
   ],
   "source": [
    "df2[['true_results', 'result_avg']].plot()"
   ]
  },
  {
   "cell_type": "code",
   "execution_count": null,
   "metadata": {},
   "outputs": [],
   "source": []
  }
 ],
 "metadata": {
  "kernelspec": {
   "display_name": "Python 3",
   "language": "python",
   "name": "python3"
  },
  "language_info": {
   "codemirror_mode": {
    "name": "ipython",
    "version": 3
   },
   "file_extension": ".py",
   "mimetype": "text/x-python",
   "name": "python",
   "nbconvert_exporter": "python",
   "pygments_lexer": "ipython3",
   "version": "3.7.3"
  }
 },
 "nbformat": 4,
 "nbformat_minor": 2
}
